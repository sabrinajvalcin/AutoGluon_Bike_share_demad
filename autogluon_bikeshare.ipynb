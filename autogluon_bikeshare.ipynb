{
 "cells": [
  {
   "cell_type": "markdown",
   "id": "859eff7e-a546-48ce-98b4-c279e10b34d8",
   "metadata": {},
   "source": [
    "1. Notebook should be using a `ml.t3.medium` instance (2 vCPU + 4 GiB)\n",
    "2. Notebook should be using kernal: `Python 3 (MXNet 1.8 Python 3.7 CPU Optimized)`"
   ]
  },
  {
   "cell_type": "markdown",
   "id": "9d93e564-431d-4f6e-b037-2ebf10b37d15",
   "metadata": {},
   "source": [
    "### Install packages"
   ]
  },
  {
   "cell_type": "code",
   "execution_count": null,
   "id": "0d45d2ef-929e-47f2-82b6-8223fe274256",
   "metadata": {},
   "outputs": [],
   "source": [
    "!pip install -U pip\n",
    "!pip install -U setuptools wheel\n",
    "!pip install -U \"mxnet<2.0.0\" bokeh==2.0.1\n",
    "!pip install autogluon --no-cache-dir\n",
    "# Without --no-cache-dir, smaller aws instances may have trouble installing"
   ]
  },
  {
   "cell_type": "markdown",
   "id": "21d95ff1-655a-4ab0-a336-c160e31c3ddd",
   "metadata": {},
   "source": [
    "### Setup kaggle API key"
   ]
  },
  {
   "cell_type": "code",
   "execution_count": null,
   "id": "43c612af-d7ae-4b06-8aa6-c03a73ea9f1c",
   "metadata": {},
   "outputs": [],
   "source": [
    "# create the .kaggle directory\n",
    "!mkdir -p ~/.kaggle\n",
    "\n",
    "# create an empty kaggle.json file\n",
    "!touch ~/.kaggle/kaggle.json\n",
    "\n",
    "# change permission so only owner has read and write access\n",
    "!chmod 600 ~/.kaggle/kaggle.json"
   ]
  },
  {
   "cell_type": "code",
   "execution_count": null,
   "id": "45fbfbda-171e-4cbc-a1ac-c6014f6036c4",
   "metadata": {},
   "outputs": [],
   "source": [
    "# edit the kaggle.json file to have username name and api token\n",
    "\n",
    "import json\n",
    "kaggle_username = \"everylittlething\"\n",
    "kaggle_key = \"#########################\n",
    "\n",
    "with open(\"/home/studio-lab-user/.kaggle/kaggle.json\", \"w\") as f:\n",
    "    f.write(json.dumps({\"username\": kaggle_username, \"key\": kaggle_key}))"
   ]
  },
  {
   "cell_type": "markdown",
   "id": "adbe2ae0-8782-42f6-a6b5-8a5b96e41841",
   "metadata": {},
   "source": [
    "### Download the dataset"
   ]
  },
  {
   "cell_type": "code",
   "execution_count": null,
   "id": "2f0d60c4-d2c4-4529-8494-c468fca2b4c0",
   "metadata": {},
   "outputs": [],
   "source": [
    "# download the dataset\n",
    "!kaggle competitions download -c bike-sharing-demand"
   ]
  },
  {
   "cell_type": "code",
   "execution_count": null,
   "id": "fa7cc561-147f-4ad7-9ac4-6433145d6041",
   "metadata": {},
   "outputs": [],
   "source": [
    "# unzip the dataset\n",
    "!unzip -o bike-sharing-demand.zip"
   ]
  },
  {
   "cell_type": "markdown",
   "id": "f9f93145-c8f3-46ad-b926-a7075a7249b0",
   "metadata": {},
   "source": [
    "#### import the necessary modules"
   ]
  },
  {
   "cell_type": "code",
   "execution_count": 2,
   "id": "eb656df0-645d-41bf-80f2-78f4704e8c73",
   "metadata": {},
   "outputs": [],
   "source": [
    "import pandas as pd\n",
    "import numpy as np\n",
    "import matplotlib.pyplot as plt\n",
    "%matplotlib inline\n",
    "from autogluon.tabular import TabularPredictor\n"
   ]
  },
  {
   "cell_type": "markdown",
   "id": "9304127b-358b-41c2-bff2-e2340c6076d4",
   "metadata": {},
   "source": [
    "### Create the training and testing dataset"
   ]
  },
  {
   "cell_type": "code",
   "execution_count": 3,
   "id": "f5bc0bdd-6c84-46a7-bf34-f17cdd39cdfc",
   "metadata": {},
   "outputs": [
    {
     "data": {
      "text/html": [
       "<div>\n",
       "<style scoped>\n",
       "    .dataframe tbody tr th:only-of-type {\n",
       "        vertical-align: middle;\n",
       "    }\n",
       "\n",
       "    .dataframe tbody tr th {\n",
       "        vertical-align: top;\n",
       "    }\n",
       "\n",
       "    .dataframe thead th {\n",
       "        text-align: right;\n",
       "    }\n",
       "</style>\n",
       "<table border=\"1\" class=\"dataframe\">\n",
       "  <thead>\n",
       "    <tr style=\"text-align: right;\">\n",
       "      <th></th>\n",
       "      <th>datetime</th>\n",
       "      <th>season</th>\n",
       "      <th>holiday</th>\n",
       "      <th>workingday</th>\n",
       "      <th>weather</th>\n",
       "      <th>temp</th>\n",
       "      <th>atemp</th>\n",
       "      <th>humidity</th>\n",
       "      <th>windspeed</th>\n",
       "      <th>casual</th>\n",
       "      <th>registered</th>\n",
       "      <th>count</th>\n",
       "    </tr>\n",
       "  </thead>\n",
       "  <tbody>\n",
       "    <tr>\n",
       "      <th>0</th>\n",
       "      <td>2011-01-01 00:00:00</td>\n",
       "      <td>1</td>\n",
       "      <td>0</td>\n",
       "      <td>0</td>\n",
       "      <td>1</td>\n",
       "      <td>9.84</td>\n",
       "      <td>14.395</td>\n",
       "      <td>81</td>\n",
       "      <td>0.0</td>\n",
       "      <td>3</td>\n",
       "      <td>13</td>\n",
       "      <td>16</td>\n",
       "    </tr>\n",
       "    <tr>\n",
       "      <th>1</th>\n",
       "      <td>2011-01-01 01:00:00</td>\n",
       "      <td>1</td>\n",
       "      <td>0</td>\n",
       "      <td>0</td>\n",
       "      <td>1</td>\n",
       "      <td>9.02</td>\n",
       "      <td>13.635</td>\n",
       "      <td>80</td>\n",
       "      <td>0.0</td>\n",
       "      <td>8</td>\n",
       "      <td>32</td>\n",
       "      <td>40</td>\n",
       "    </tr>\n",
       "    <tr>\n",
       "      <th>2</th>\n",
       "      <td>2011-01-01 02:00:00</td>\n",
       "      <td>1</td>\n",
       "      <td>0</td>\n",
       "      <td>0</td>\n",
       "      <td>1</td>\n",
       "      <td>9.02</td>\n",
       "      <td>13.635</td>\n",
       "      <td>80</td>\n",
       "      <td>0.0</td>\n",
       "      <td>5</td>\n",
       "      <td>27</td>\n",
       "      <td>32</td>\n",
       "    </tr>\n",
       "    <tr>\n",
       "      <th>3</th>\n",
       "      <td>2011-01-01 03:00:00</td>\n",
       "      <td>1</td>\n",
       "      <td>0</td>\n",
       "      <td>0</td>\n",
       "      <td>1</td>\n",
       "      <td>9.84</td>\n",
       "      <td>14.395</td>\n",
       "      <td>75</td>\n",
       "      <td>0.0</td>\n",
       "      <td>3</td>\n",
       "      <td>10</td>\n",
       "      <td>13</td>\n",
       "    </tr>\n",
       "    <tr>\n",
       "      <th>4</th>\n",
       "      <td>2011-01-01 04:00:00</td>\n",
       "      <td>1</td>\n",
       "      <td>0</td>\n",
       "      <td>0</td>\n",
       "      <td>1</td>\n",
       "      <td>9.84</td>\n",
       "      <td>14.395</td>\n",
       "      <td>75</td>\n",
       "      <td>0.0</td>\n",
       "      <td>0</td>\n",
       "      <td>1</td>\n",
       "      <td>1</td>\n",
       "    </tr>\n",
       "  </tbody>\n",
       "</table>\n",
       "</div>"
      ],
      "text/plain": [
       "             datetime  season  holiday  workingday  weather  temp   atemp  \\\n",
       "0 2011-01-01 00:00:00       1        0           0        1  9.84  14.395   \n",
       "1 2011-01-01 01:00:00       1        0           0        1  9.02  13.635   \n",
       "2 2011-01-01 02:00:00       1        0           0        1  9.02  13.635   \n",
       "3 2011-01-01 03:00:00       1        0           0        1  9.84  14.395   \n",
       "4 2011-01-01 04:00:00       1        0           0        1  9.84  14.395   \n",
       "\n",
       "   humidity  windspeed  casual  registered  count  \n",
       "0        81        0.0       3          13     16  \n",
       "1        80        0.0       8          32     40  \n",
       "2        80        0.0       5          27     32  \n",
       "3        75        0.0       3          10     13  \n",
       "4        75        0.0       0           1      1  "
      ]
     },
     "execution_count": 3,
     "metadata": {},
     "output_type": "execute_result"
    }
   ],
   "source": [
    "train = pd.read_csv(\"train.csv\", parse_dates = [\"datetime\"])\n",
    "train.head()"
   ]
  },
  {
   "cell_type": "code",
   "execution_count": null,
   "id": "db9d6dfd-05ff-41b8-abcc-29949dc0e4fe",
   "metadata": {},
   "outputs": [],
   "source": [
    "#verify the dtype of the datetime column\n",
    "train.info()"
   ]
  },
  {
   "cell_type": "code",
   "execution_count": 5,
   "id": "0c13a13c-03a9-4276-9b4a-549865f424e5",
   "metadata": {},
   "outputs": [
    {
     "data": {
      "text/html": [
       "<div>\n",
       "<style scoped>\n",
       "    .dataframe tbody tr th:only-of-type {\n",
       "        vertical-align: middle;\n",
       "    }\n",
       "\n",
       "    .dataframe tbody tr th {\n",
       "        vertical-align: top;\n",
       "    }\n",
       "\n",
       "    .dataframe thead th {\n",
       "        text-align: right;\n",
       "    }\n",
       "</style>\n",
       "<table border=\"1\" class=\"dataframe\">\n",
       "  <thead>\n",
       "    <tr style=\"text-align: right;\">\n",
       "      <th></th>\n",
       "      <th>datetime</th>\n",
       "      <th>season</th>\n",
       "      <th>holiday</th>\n",
       "      <th>workingday</th>\n",
       "      <th>weather</th>\n",
       "      <th>temp</th>\n",
       "      <th>atemp</th>\n",
       "      <th>humidity</th>\n",
       "      <th>windspeed</th>\n",
       "    </tr>\n",
       "  </thead>\n",
       "  <tbody>\n",
       "    <tr>\n",
       "      <th>0</th>\n",
       "      <td>2011-01-20 00:00:00</td>\n",
       "      <td>1</td>\n",
       "      <td>0</td>\n",
       "      <td>1</td>\n",
       "      <td>1</td>\n",
       "      <td>10.66</td>\n",
       "      <td>11.365</td>\n",
       "      <td>56</td>\n",
       "      <td>26.0027</td>\n",
       "    </tr>\n",
       "    <tr>\n",
       "      <th>1</th>\n",
       "      <td>2011-01-20 01:00:00</td>\n",
       "      <td>1</td>\n",
       "      <td>0</td>\n",
       "      <td>1</td>\n",
       "      <td>1</td>\n",
       "      <td>10.66</td>\n",
       "      <td>13.635</td>\n",
       "      <td>56</td>\n",
       "      <td>0.0000</td>\n",
       "    </tr>\n",
       "    <tr>\n",
       "      <th>2</th>\n",
       "      <td>2011-01-20 02:00:00</td>\n",
       "      <td>1</td>\n",
       "      <td>0</td>\n",
       "      <td>1</td>\n",
       "      <td>1</td>\n",
       "      <td>10.66</td>\n",
       "      <td>13.635</td>\n",
       "      <td>56</td>\n",
       "      <td>0.0000</td>\n",
       "    </tr>\n",
       "    <tr>\n",
       "      <th>3</th>\n",
       "      <td>2011-01-20 03:00:00</td>\n",
       "      <td>1</td>\n",
       "      <td>0</td>\n",
       "      <td>1</td>\n",
       "      <td>1</td>\n",
       "      <td>10.66</td>\n",
       "      <td>12.880</td>\n",
       "      <td>56</td>\n",
       "      <td>11.0014</td>\n",
       "    </tr>\n",
       "    <tr>\n",
       "      <th>4</th>\n",
       "      <td>2011-01-20 04:00:00</td>\n",
       "      <td>1</td>\n",
       "      <td>0</td>\n",
       "      <td>1</td>\n",
       "      <td>1</td>\n",
       "      <td>10.66</td>\n",
       "      <td>12.880</td>\n",
       "      <td>56</td>\n",
       "      <td>11.0014</td>\n",
       "    </tr>\n",
       "  </tbody>\n",
       "</table>\n",
       "</div>"
      ],
      "text/plain": [
       "             datetime  season  holiday  workingday  weather   temp   atemp  \\\n",
       "0 2011-01-20 00:00:00       1        0           1        1  10.66  11.365   \n",
       "1 2011-01-20 01:00:00       1        0           1        1  10.66  13.635   \n",
       "2 2011-01-20 02:00:00       1        0           1        1  10.66  13.635   \n",
       "3 2011-01-20 03:00:00       1        0           1        1  10.66  12.880   \n",
       "4 2011-01-20 04:00:00       1        0           1        1  10.66  12.880   \n",
       "\n",
       "   humidity  windspeed  \n",
       "0        56    26.0027  \n",
       "1        56     0.0000  \n",
       "2        56     0.0000  \n",
       "3        56    11.0014  \n",
       "4        56    11.0014  "
      ]
     },
     "execution_count": 5,
     "metadata": {},
     "output_type": "execute_result"
    }
   ],
   "source": [
    "test = pd.read_csv(\"test.csv\", parse_dates = [\"datetime\"])\n",
    "test.head()"
   ]
  },
  {
   "cell_type": "code",
   "execution_count": null,
   "id": "b40612cd-385a-45b0-9874-b05c7a79b644",
   "metadata": {},
   "outputs": [],
   "source": [
    "test.info()"
   ]
  },
  {
   "cell_type": "code",
   "execution_count": 4,
   "id": "370e09ab-098a-4045-8b6a-a5cc82caece7",
   "metadata": {},
   "outputs": [
    {
     "name": "stdout",
     "output_type": "stream",
     "text": [
      "<class 'pandas.core.frame.DataFrame'>\n",
      "RangeIndex: 10886 entries, 0 to 10885\n",
      "Data columns (total 10 columns):\n",
      " #   Column      Non-Null Count  Dtype         \n",
      "---  ------      --------------  -----         \n",
      " 0   datetime    10886 non-null  datetime64[ns]\n",
      " 1   season      10886 non-null  int64         \n",
      " 2   holiday     10886 non-null  int64         \n",
      " 3   workingday  10886 non-null  int64         \n",
      " 4   weather     10886 non-null  int64         \n",
      " 5   temp        10886 non-null  float64       \n",
      " 6   atemp       10886 non-null  float64       \n",
      " 7   humidity    10886 non-null  int64         \n",
      " 8   windspeed   10886 non-null  float64       \n",
      " 9   count       10886 non-null  int64         \n",
      "dtypes: datetime64[ns](1), float64(3), int64(6)\n",
      "memory usage: 850.6 KB\n"
     ]
    }
   ],
   "source": [
    "# drop the registered and casual columns as they are not included in the test dataset\n",
    "train.drop(labels =['casual', 'registered'], axis = 'columns', inplace=True)\n",
    "train.info()"
   ]
  },
  {
   "cell_type": "code",
   "execution_count": 18,
   "id": "77ab536d-e20e-4a4d-87fd-62e4f8e6fdfb",
   "metadata": {},
   "outputs": [
    {
     "data": {
      "text/html": [
       "<div>\n",
       "<style scoped>\n",
       "    .dataframe tbody tr th:only-of-type {\n",
       "        vertical-align: middle;\n",
       "    }\n",
       "\n",
       "    .dataframe tbody tr th {\n",
       "        vertical-align: top;\n",
       "    }\n",
       "\n",
       "    .dataframe thead th {\n",
       "        text-align: right;\n",
       "    }\n",
       "</style>\n",
       "<table border=\"1\" class=\"dataframe\">\n",
       "  <thead>\n",
       "    <tr style=\"text-align: right;\">\n",
       "      <th></th>\n",
       "      <th>datetime</th>\n",
       "      <th>count</th>\n",
       "    </tr>\n",
       "  </thead>\n",
       "  <tbody>\n",
       "    <tr>\n",
       "      <th>0</th>\n",
       "      <td>2011-01-20 00:00:00</td>\n",
       "      <td>0</td>\n",
       "    </tr>\n",
       "    <tr>\n",
       "      <th>1</th>\n",
       "      <td>2011-01-20 01:00:00</td>\n",
       "      <td>0</td>\n",
       "    </tr>\n",
       "    <tr>\n",
       "      <th>2</th>\n",
       "      <td>2011-01-20 02:00:00</td>\n",
       "      <td>0</td>\n",
       "    </tr>\n",
       "    <tr>\n",
       "      <th>3</th>\n",
       "      <td>2011-01-20 03:00:00</td>\n",
       "      <td>0</td>\n",
       "    </tr>\n",
       "    <tr>\n",
       "      <th>4</th>\n",
       "      <td>2011-01-20 04:00:00</td>\n",
       "      <td>0</td>\n",
       "    </tr>\n",
       "  </tbody>\n",
       "</table>\n",
       "</div>"
      ],
      "text/plain": [
       "              datetime  count\n",
       "0  2011-01-20 00:00:00      0\n",
       "1  2011-01-20 01:00:00      0\n",
       "2  2011-01-20 02:00:00      0\n",
       "3  2011-01-20 03:00:00      0\n",
       "4  2011-01-20 04:00:00      0"
      ]
     },
     "execution_count": 18,
     "metadata": {},
     "output_type": "execute_result"
    }
   ],
   "source": [
    "submission = pd.read_csv(\"sampleSubmission.csv\")\n",
    "submission.head()"
   ]
  },
  {
   "cell_type": "markdown",
   "id": "f915825f-bb8b-4719-8587-d57c65c10645",
   "metadata": {},
   "source": [
    "## Training my first AutoGluon Model"
   ]
  },
  {
   "cell_type": "markdown",
   "id": "ab037f3c-7e0a-46e4-96fc-ab579a8dedc6",
   "metadata": {},
   "source": [
    "Requirements:\n",
    "* We are predicting `count`, so it is the label we are setting.\n",
    "* Ignore `casual` and `registered` columns as they are also not present in the test dataset. \n",
    "* Use the `root_mean_squared_error` as the metric to use for evaluation.\n",
    "* Set a time limit of 10 minutes (600 seconds).\n",
    "* Use the preset `best_quality` to focus on creating the best model."
   ]
  },
  {
   "cell_type": "code",
   "execution_count": null,
   "id": "500a7bd2-6782-45c7-b6e9-1f4f1a720752",
   "metadata": {},
   "outputs": [],
   "source": [
    "initial_predictor = TabularPredictor(label = \"count\", eval_metric=\"root_mean_squared_error\").fit(\n",
    "    train_data = train,\n",
    "    time_limit = 600,\n",
    "    presets = \"best_quality\"\n",
    ")\n"
   ]
  },
  {
   "cell_type": "markdown",
   "id": "1fca7293-fe34-4b21-8793-0f82b32f7eb3",
   "metadata": {},
   "source": [
    "### Review and Visulaize Performance of Models"
   ]
  },
  {
   "cell_type": "code",
   "execution_count": null,
   "id": "56f77780-51e3-492a-aa92-06ebdb12cc80",
   "metadata": {},
   "outputs": [],
   "source": [
    "initial_results = initial_predictor.fit_summary()"
   ]
  },
  {
   "cell_type": "code",
   "execution_count": null,
   "id": "dbc1ed3e-f8af-40ee-b4e7-98f12aa488c1",
   "metadata": {},
   "outputs": [],
   "source": [
    "initial_predictor.leaderboard(silent=True).plot(kind = \"bar\", x=\"model\", y= \"score_val\")"
   ]
  },
  {
   "cell_type": "markdown",
   "id": "68bfffc4-0b2f-488f-9437-eb12f33915ce",
   "metadata": {},
   "source": [
    "### Create predictions from test dataset to submit to kaggle"
   ]
  },
  {
   "cell_type": "code",
   "execution_count": null,
   "id": "b02648bd-e183-4a6a-a88d-9c5e0a4e3a0a",
   "metadata": {},
   "outputs": [],
   "source": [
    "predictions = initial_predictor.predict(test)\n",
    "predictions.head()"
   ]
  },
  {
   "cell_type": "code",
   "execution_count": null,
   "id": "a52d787f-7823-43ed-a09c-eb3e7ae2d8a8",
   "metadata": {},
   "outputs": [],
   "source": [
    "#remove any negative values, as they are not allowed. replace negative values with zero\n",
    "(predictions < 0).sum()"
   ]
  },
  {
   "cell_type": "code",
   "execution_count": null,
   "id": "59c0e375-55e5-4b32-9dc4-3f64646793b9",
   "metadata": {},
   "outputs": [],
   "source": [
    "def replaceNegative(x):\n",
    "    if x < 0:\n",
    "        return 0\n",
    "    return x"
   ]
  },
  {
   "cell_type": "code",
   "execution_count": null,
   "id": "b10be176-127f-4a38-aa54-57f35d1184cc",
   "metadata": {},
   "outputs": [],
   "source": [
    "predictions.apply(replaceNegative)\n",
    "(predictions < 0).sum()"
   ]
  },
  {
   "cell_type": "code",
   "execution_count": null,
   "id": "7635094a-4f76-48a1-960b-68f83de92b5a",
   "metadata": {},
   "outputs": [],
   "source": [
    "submission['count'] = predictions\n",
    "submission.to_csv(\"submission.csv\", index=False)"
   ]
  },
  {
   "cell_type": "markdown",
   "id": "1e9923f1-e49b-4b84-83fc-7951ba2c1fcb",
   "metadata": {},
   "source": [
    "#### Submit submissions.cvs"
   ]
  },
  {
   "cell_type": "code",
   "execution_count": null,
   "id": "a5fa3836-c6b9-4a0b-b548-05414d386750",
   "metadata": {},
   "outputs": [],
   "source": [
    "!kaggle competitions submit -c bike-sharing-demand -f submission.csv -m \"first raw submission\""
   ]
  },
  {
   "cell_type": "markdown",
   "id": "21ac8884-05d2-42ae-8c65-0975268adddd",
   "metadata": {},
   "source": [
    "#### Review initial score"
   ]
  },
  {
   "cell_type": "code",
   "execution_count": null,
   "id": "aa9581d7-5523-4c6a-97d7-10c2ec66d618",
   "metadata": {},
   "outputs": [],
   "source": [
    "!kaggle competitions submissions -c bike-sharing-demand | tail -n +1 | head -n 6"
   ]
  },
  {
   "cell_type": "code",
   "execution_count": null,
   "id": "9e98ab5d-5908-439e-a0cf-5a52be8a25cb",
   "metadata": {},
   "outputs": [],
   "source": [
    "initial_score = 1.73373"
   ]
  },
  {
   "cell_type": "markdown",
   "id": "f22e623f-322b-48f1-aa5a-9a6093e16df8",
   "metadata": {},
   "source": [
    "## Step 4: Exploratory Data Analysis and Creating an additional feature\n",
    "* Any additional feature will do, but a great suggestion would be to separate out the datetime into hour, day, or month parts."
   ]
  },
  {
   "cell_type": "code",
   "execution_count": null,
   "id": "ef44955e-2ed8-4306-b28d-16efa2ddab0f",
   "metadata": {},
   "outputs": [],
   "source": [
    "train.hist(figsize=(12,12), xrot = 90)"
   ]
  },
  {
   "cell_type": "code",
   "execution_count": 6,
   "id": "3f7da369-cea7-4680-877f-94b81ebc6d79",
   "metadata": {},
   "outputs": [],
   "source": [
    "# create hour day and month feature\n",
    "train['month'] = train['datetime'].dt.month\n",
    "train['day'] = train['datetime'].dt.day\n",
    "train['hour'] = train['datetime'].dt.hour\n",
    "\n",
    "test['month'] = test['datetime'].dt.month\n",
    "test['day'] = test['datetime'].dt.day\n",
    "test['hour'] = test['datetime'].dt.hour"
   ]
  },
  {
   "cell_type": "markdown",
   "id": "7a0f57f9-b84d-49f0-aa0f-0086bbfa8725",
   "metadata": {},
   "source": [
    "## Make category types for these so models know they are not just numbers\n",
    "* AutoGluon originally sees these as ints, but in reality they are int representations of a category.\n",
    "* Setting the dtype to category will classify these as categories in AutoGluon."
   ]
  },
  {
   "cell_type": "code",
   "execution_count": 7,
   "id": "9708b5f0-eff8-4bc2-b105-d27401bb9cb6",
   "metadata": {},
   "outputs": [],
   "source": [
    "train[\"season\"] = train['season'].astype('category')\n",
    "train[\"weather\"] = train['weather'].astype('category')\n",
    "test[\"season\"] = test['season'].astype('category')\n",
    "test[\"weather\"] = test['weather'].astype('category')\n"
   ]
  },
  {
   "cell_type": "code",
   "execution_count": null,
   "id": "261ad0d1-63c4-4817-bfd3-507e199bd1ad",
   "metadata": {},
   "outputs": [],
   "source": [
    "train.info()"
   ]
  },
  {
   "cell_type": "code",
   "execution_count": null,
   "id": "c52f160c-df0e-4962-abc9-742ac1efaa9b",
   "metadata": {},
   "outputs": [],
   "source": [
    "train.head()"
   ]
  },
  {
   "cell_type": "code",
   "execution_count": null,
   "id": "c594e430-8d9d-4d10-b957-9d550847ae04",
   "metadata": {},
   "outputs": [],
   "source": [
    "test.info()"
   ]
  },
  {
   "cell_type": "code",
   "execution_count": null,
   "id": "06b733b1-95a2-4699-9e91-9d74b2b8a4b5",
   "metadata": {},
   "outputs": [],
   "source": [
    "test.head()"
   ]
  },
  {
   "cell_type": "code",
   "execution_count": 143,
   "id": "9a4a91be-6365-40e4-9aff-c3aa4641a6cf",
   "metadata": {},
   "outputs": [
    {
     "data": {
      "text/plain": [
       "array([[<AxesSubplot: title={'center': 'datetime'}>,\n",
       "        <AxesSubplot: title={'center': 'holiday'}>,\n",
       "        <AxesSubplot: title={'center': 'workingday'}>],\n",
       "       [<AxesSubplot: title={'center': 'temp'}>,\n",
       "        <AxesSubplot: title={'center': 'atemp'}>,\n",
       "        <AxesSubplot: title={'center': 'humidity'}>],\n",
       "       [<AxesSubplot: title={'center': 'windspeed'}>,\n",
       "        <AxesSubplot: title={'center': 'count'}>,\n",
       "        <AxesSubplot: title={'center': 'month'}>],\n",
       "       [<AxesSubplot: title={'center': 'day'}>,\n",
       "        <AxesSubplot: title={'center': 'hour'}>, <AxesSubplot: >]],\n",
       "      dtype=object)"
      ]
     },
     "execution_count": 143,
     "metadata": {},
     "output_type": "execute_result"
    },
    {
     "data": {
      "image/png": "[encoded data removed]",
      "text/plain": [
       "<Figure size 1200x1200 with 12 Axes>"
      ]
     },
     "metadata": {},
     "output_type": "display_data"
    }
   ],
   "source": [
    "train.hist(figsize=(12,12))"
   ]
  },
  {
   "cell_type": "markdown",
   "id": "c5144bd3-51eb-40f4-9011-abbfe5d83566",
   "metadata": {},
   "source": [
    "## Step 5: Rerun the model with the same settings as before, just with more features"
   ]
  },
  {
   "cell_type": "code",
   "execution_count": null,
   "id": "aaa7659e-2f75-4d33-af7b-4267c623781a",
   "metadata": {},
   "outputs": [],
   "source": [
    "predictor_new_features = TabularPredictor(label = 'count', eval_metric = 'root_mean_squared_error').fit(\n",
    "    train_data = train,\n",
    "    time_limit = 600,\n",
    "    presets = \"best_quality\"\n",
    ")"
   ]
  },
  {
   "cell_type": "code",
   "execution_count": null,
   "id": "2ab13913-2642-4d60-9ad0-f6696a40143b",
   "metadata": {},
   "outputs": [],
   "source": []
  },
  {
   "cell_type": "code",
   "execution_count": null,
   "id": "3addc5ea-e817-4b27-91b3-d69629774a90",
   "metadata": {
    "tags": []
   },
   "outputs": [],
   "source": [
    "predictor_new_features.fit_summary()"
   ]
  },
  {
   "cell_type": "code",
   "execution_count": null,
   "id": "a6da8f51-820a-40a8-a411-af11f32e7c82",
   "metadata": {},
   "outputs": [],
   "source": [
    "predictor_new_features.leaderboard(silent=True).plot(kind='bar', x='model', y='score_val')"
   ]
  },
  {
   "cell_type": "markdown",
   "id": "6964a83d-f147-478c-9a9c-a7d6c80eadea",
   "metadata": {},
   "source": [
    "### Make predictions on the test data using the new predictor"
   ]
  },
  {
   "cell_type": "code",
   "execution_count": null,
   "id": "823edbbe-a23e-483a-af90-a1fce0ff38ee",
   "metadata": {},
   "outputs": [],
   "source": [
    "predictions_new_features = predictor_new_features.predict(test)"
   ]
  },
  {
   "cell_type": "code",
   "execution_count": null,
   "id": "db32a428-4d83-443b-9397-1370152b7b0f",
   "metadata": {},
   "outputs": [],
   "source": [
    "print((predictions_new_features < 0).sum())\n",
    "# remove any negative values\n",
    "predictions_new_features = predictions_new_features.apply(replaceNegative)\n",
    "print((predictions_new_features < 0).sum())"
   ]
  },
  {
   "cell_type": "markdown",
   "id": "a801ca3b-44b8-4dbb-b81f-ffd843de49c7",
   "metadata": {},
   "source": [
    "### Sumbit predictions using new features"
   ]
  },
  {
   "cell_type": "code",
   "execution_count": null,
   "id": "274ee0e2-7217-4994-9d82-5ead6cef98f5",
   "metadata": {},
   "outputs": [],
   "source": [
    "submission_new_features = submission"
   ]
  },
  {
   "cell_type": "code",
   "execution_count": null,
   "id": "fefbba95-3ead-42c6-be08-ba45875c063e",
   "metadata": {},
   "outputs": [],
   "source": [
    "submission_new_features['count'] = predictions_new_features\n",
    "submission_new_features.to_csv('submission_new_features.csv', index=False)"
   ]
  },
  {
   "cell_type": "code",
   "execution_count": null,
   "id": "6ac7eef8-c7bd-4fb9-bde7-e4ec7b0a9fe8",
   "metadata": {},
   "outputs": [],
   "source": [
    "!kaggle competitions submit -c bike-sharing-demand -f submission_new_features.csv -m \"second sunmission-with additional features-with datetime column\""
   ]
  },
  {
   "cell_type": "code",
   "execution_count": null,
   "id": "a64fbf15-944a-4ed1-8dcd-9ac5ba1dfe50",
   "metadata": {},
   "outputs": [],
   "source": [
    "!kaggle competitions submissions -c bike-sharing-demand | tail -n +1 | head -n 6"
   ]
  },
  {
   "cell_type": "markdown",
   "id": "c10deebe-762a-4b75-9da2-80d9707ad3ee",
   "metadata": {},
   "source": [
    "##### new score with additional features = 0.76168"
   ]
  },
  {
   "cell_type": "markdown",
   "id": "4edd17c3-afc3-411b-a6af-07e5ab659d2c",
   "metadata": {},
   "source": [
    "## Step 6: Hyper parameter optimization\n",
    "* There are many options for hyper parameter optimization.\n",
    "* Options are to change the AutoGluon higher level parameters or the individual model hyperparameters.\n",
    "* The hyperparameters of the models themselves that are in AutoGluon. Those need the `hyperparameter` and `hyperparameter_tune_kwargs` arguments."
   ]
  },
  {
   "cell_type": "markdown",
   "id": "3514c411-b766-4d42-9b0b-9f7dd3d9afb1",
   "metadata": {},
   "source": [
    "Hyperparameter 1: Turn on autostack"
   ]
  },
  {
   "cell_type": "code",
   "execution_count": null,
   "id": "4d825fe1-27d9-43e2-86b9-cda7b33bd6b3",
   "metadata": {},
   "outputs": [],
   "source": [
    "predictor_hpo_autostack = TabularPredictor(label = 'count', eval_metric = 'root_mean_squared_error').fit(\n",
    "    train_data = train,\n",
    "    time_limit = 600,\n",
    "    presets = \"best_quality\",\n",
    "    auto_stack = True\n",
    ")"
   ]
  },
  {
   "cell_type": "code",
   "execution_count": null,
   "id": "d4ff70ee-2a59-4896-8402-ff96d88b0f0b",
   "metadata": {},
   "outputs": [],
   "source": [
    "predictor_hpo_autostack.fit_summary()"
   ]
  },
  {
   "cell_type": "code",
   "execution_count": null,
   "id": "625edeaa-e32d-493e-8dcf-e6a1d870778e",
   "metadata": {},
   "outputs": [],
   "source": [
    "predictor_hpo_autostack.leaderboard(silent=True).plot(kind='bar', x= 'model', y='score_val')"
   ]
  },
  {
   "cell_type": "code",
   "execution_count": null,
   "id": "478bf99e-ce60-4c59-82b8-23f80cd01e53",
   "metadata": {},
   "outputs": [],
   "source": [
    "predictions_autostack = predictor_hpo_autostack.predict(test)"
   ]
  },
  {
   "cell_type": "code",
   "execution_count": null,
   "id": "aab0bda8-101c-4120-a52a-b2bb46a3132e",
   "metadata": {},
   "outputs": [],
   "source": [
    "predictions_autostack = predictions_autostack.apply(replaceNegative)"
   ]
  },
  {
   "cell_type": "code",
   "execution_count": null,
   "id": "51672348-9dbb-43ba-afe3-ff48fae6a568",
   "metadata": {},
   "outputs": [],
   "source": [
    "submission_hpo_autostack = submission"
   ]
  },
  {
   "cell_type": "code",
   "execution_count": null,
   "id": "554f4acd-b48d-4424-83bc-88af10d6e95a",
   "metadata": {},
   "outputs": [],
   "source": [
    "submission_hpo_autostack['count'] = predictions_autostack\n",
    "submission_hpo_autostack.to_csv('submission_hpo_autostack.csv', index=False)"
   ]
  },
  {
   "cell_type": "code",
   "execution_count": null,
   "id": "e86e87ba-4b30-49cb-a62e-4ead04197977",
   "metadata": {},
   "outputs": [],
   "source": [
    "#submit to kaggle\n",
    "!kaggle competitions submit -c bike-sharing-demand -f submission_hpo_autostack.csv -m \"with features autostack hyperparameter turned on\""
   ]
  },
  {
   "cell_type": "markdown",
   "id": "0a461d4a-b9c0-4686-b65d-34e8ba25b092",
   "metadata": {},
   "source": [
    "Hyperparameter 2: set num_bag_sets to 10"
   ]
  },
  {
   "cell_type": "code",
   "execution_count": null,
   "id": "8bb86b38-94cd-4d7c-b076-f7aec4808102",
   "metadata": {},
   "outputs": [],
   "source": [
    "predictor_hpo_numbagsets = TabularPredictor(label = 'count', eval_metric = 'root_mean_squared_error').fit(\n",
    "    train_data = train,\n",
    "    time_limit = 600,\n",
    "    presets = \"best_quality\",\n",
    "    num_bag_sets = 10\n",
    ")"
   ]
  },
  {
   "cell_type": "code",
   "execution_count": null,
   "id": "e74f05b5-cc17-45c8-a61b-7c0de3394c41",
   "metadata": {},
   "outputs": [],
   "source": [
    "predictor_hpo_numbagsets.fit_summary()"
   ]
  },
  {
   "cell_type": "code",
   "execution_count": null,
   "id": "9a534bc8-5b39-45d5-9343-5519a4a1b5ff",
   "metadata": {},
   "outputs": [],
   "source": [
    "predictor_hpo_numbagsets.leaderboard(silent=True).plot(kind='bar', x='model', y='score_val')"
   ]
  },
  {
   "cell_type": "code",
   "execution_count": null,
   "id": "b4e78ece-9593-41a6-9f2c-3b445810503c",
   "metadata": {},
   "outputs": [],
   "source": [
    "predictions_numbagsets = predictor_hpo_numbagsets.predict(test)"
   ]
  },
  {
   "cell_type": "code",
   "execution_count": null,
   "id": "b5521464-05b3-4ca8-a5bc-41faa7c5a09e",
   "metadata": {},
   "outputs": [],
   "source": [
    "predictions_numbagsets = predictions_numbagsets.apply(replaceNegative)"
   ]
  },
  {
   "cell_type": "code",
   "execution_count": null,
   "id": "470dd32a-72ab-4765-abee-3565d4c2f2fb",
   "metadata": {},
   "outputs": [],
   "source": [
    "submission_hpo_numbagsets = submission"
   ]
  },
  {
   "cell_type": "code",
   "execution_count": null,
   "id": "194414d8-02aa-4713-83b8-d6265bd11167",
   "metadata": {},
   "outputs": [],
   "source": [
    "submission_hpo_numbagsets['count'] = predictions_numbagsets\n",
    "submission_hpo_numbagsets.to_csv('submission_hpo_numbagsets.csv', index=False)"
   ]
  },
  {
   "cell_type": "code",
   "execution_count": null,
   "id": "916e3c70-40f6-483a-80ac-1a85fbd47bbf",
   "metadata": {},
   "outputs": [],
   "source": [
    "#submit to kaggle\n",
    "!kaggle competitions submit -c bike-sharing-demand -f submission_hpo_numbagsets.csv -m \"with features num_bag_sets hyperparameter set to 10\""
   ]
  },
  {
   "cell_type": "code",
   "execution_count": null,
   "id": "be2cedff-f63b-4013-92c3-99af3f6e8936",
   "metadata": {},
   "outputs": [],
   "source": [
    "predictor_hpo_both = TabularPredictor(label = 'count', eval_metric = 'root_mean_squared_error').fit(\n",
    "    train_data = train,\n",
    "    time_limit = 600,\n",
    "    presets = \"best_quality\",\n",
    "    auto_stack = True,\n",
    "    num_bag_sets = 10\n",
    ")"
   ]
  },
  {
   "cell_type": "code",
   "execution_count": null,
   "id": "dc01cdf7-cd55-4e40-b1e4-6d6442bb179a",
   "metadata": {},
   "outputs": [],
   "source": [
    "predictor_hpo_both.fit_summary()"
   ]
  },
  {
   "cell_type": "code",
   "execution_count": null,
   "id": "9a83f586-ac41-4202-a892-bf67da09237e",
   "metadata": {},
   "outputs": [],
   "source": [
    "predictor_hpo_both.leaderboard(silent=True).plot(kind='bar', x = 'model', y= 'score_val')"
   ]
  },
  {
   "cell_type": "code",
   "execution_count": null,
   "id": "04605eb5-c23b-4f48-bf80-315549a44bd4",
   "metadata": {},
   "outputs": [],
   "source": [
    "predictions_both = predictor_hpo_both.predict(test)"
   ]
  },
  {
   "cell_type": "code",
   "execution_count": null,
   "id": "2d471da1-a803-4848-b70f-8bd54c66d526",
   "metadata": {},
   "outputs": [],
   "source": [
    "predictions_both = predictions_both.apply(replaceNegative)"
   ]
  },
  {
   "cell_type": "code",
   "execution_count": null,
   "id": "9ceab114-3e57-4e6b-baba-cdb88f6b9101",
   "metadata": {},
   "outputs": [],
   "source": [
    "submission_hpo_both = submission"
   ]
  },
  {
   "cell_type": "code",
   "execution_count": null,
   "id": "0306214a-f5c7-4995-bfe2-8e57b528f3cf",
   "metadata": {},
   "outputs": [],
   "source": [
    "submission_hpo_both['count'] = predictions_both\n",
    "submission_hpo_both.to_csv('submission_hpo_both.csv', index=False)"
   ]
  },
  {
   "cell_type": "code",
   "execution_count": null,
   "id": "c23a2ddb-32e9-4c12-a9e3-b86d10e51d36",
   "metadata": {},
   "outputs": [],
   "source": [
    "#submit to kaggle\n",
    "!kaggle competitions submit -c bike-sharing-demand -f submission_hpo_both.csv -m \"with features autostack turned on and num_bag_sets set to 10\""
   ]
  },
  {
   "cell_type": "code",
   "execution_count": null,
   "id": "0f7ee87b-d089-4542-9d44-19f785f260e4",
   "metadata": {},
   "outputs": [],
   "source": [
    "!kaggle competitions submissions -c bike-sharing-demand | tail -n +1 | head -n 15"
   ]
  },
  {
   "cell_type": "markdown",
   "id": "d95479fd-d978-495c-a853-190d93ef2a44",
   "metadata": {},
   "source": [
    "## Step 7: Write a Report\n",
    "### Refer to the markdown file for the full report\n",
    "### Creating plots and table for report"
   ]
  },
  {
   "cell_type": "code",
   "execution_count": null,
   "id": "8700c842-6226-4d4a-b2d0-46a589ccc653",
   "metadata": {},
   "outputs": [],
   "source": [
    "kaggle_scores = pd.DataFrame(\n",
    "    {\n",
    "        \"Training run\": [\"Without added features\", \"With added features\", \"Autostack on\",\"Num_bag_sets=10\", \"Autostack, num_bag_sets\"],\n",
    "        \"Kaggle score\": [1.73373, 0.76168, 0.70008, 0.72921, 0.71271]\n",
    "    })"
   ]
  },
  {
   "cell_type": "code",
   "execution_count": null,
   "id": "7957a7d4-bc13-44ee-9aab-627df57a7705",
   "metadata": {},
   "outputs": [],
   "source": [
    "fig, ax = plt.subplots(figsize = (8,6))\n",
    "ax.plot(kaggle_scores[\"Training run\"], kaggle_scores['score'], color='blue')\n",
    "ax.set_xticklabels(kaggle_scores['Training run'],rotation=90)\n",
    "ax.set_xlabel('Training run')\n",
    "ax.set_ylabel('Kaggle score', color='blue')\n",
    "ax.tick_params('y', colors='blue')"
   ]
  },
  {
   "cell_type": "code",
   "execution_count": null,
   "id": "fffdc6bf-a8c2-4cdf-80e2-3cf9a8b6d9c8",
   "metadata": {},
   "outputs": [],
   "source": [
    "fig.savefig('model_kaggle_score.png')"
   ]
  },
  {
   "cell_type": "code",
   "execution_count": null,
   "id": "c7db6a22-f448-4329-afc9-9aa5a13b8f24",
   "metadata": {},
   "outputs": [],
   "source": [
    "#the. most performant model in all training runs ws the WeightedEnsemble_l3\n",
    "model_eval_metric = pd.DataFrame(\n",
    "    {\n",
    "        \"Training run\": [\"Without added features\", \"With added features\", \"Autostack on\",\"Num_bag_sets=10\", \"Autostack, num_bag_sets\"],\n",
    "        \"Evaluation metric score\": [-50.999267, -29.272368, -30.241311, -30.121382, -30.118559]\n",
    "    }\n",
    ")"
   ]
  },
  {
   "cell_type": "code",
   "execution_count": null,
   "id": "b6e5f4bf-7d82-449d-8014-96ed57e0e383",
   "metadata": {},
   "outputs": [],
   "source": [
    "ax2 = ax.twinx()\n",
    "ax2.plot(model_eval_metric[ \"Training run\"], model_eval_metric[\"Evaluation metric score\"], color='red')\n",
    "ax2.set_ylabel(\"Evaluation metric score\", color='red')\n",
    "ax2.tick_params('y',colors='red')\n",
    "plt.show()\n"
   ]
  },
  {
   "cell_type": "code",
   "execution_count": null,
   "id": "08c167c3-43b5-43c2-b0ca-63b864d3bf6e",
   "metadata": {},
   "outputs": [],
   "source": [
    "#bbox_inches ='tight' ensures all elements of the figure fits within the image\n",
    "fig.savefig('evalmetric_kaggle_score.png', bbox_inches='tight')"
   ]
  },
  {
   "cell_type": "code",
   "execution_count": null,
   "id": "72b0fbe3-d747-4800-af46-c7ff075351a2",
   "metadata": {},
   "outputs": [],
   "source": [
    "summary_df = pd.concat([kaggle_scores, model_eval_metric['Evaluation metric score']], axis=1, join='inner')\n",
    "summary_df"
   ]
  },
  {
   "cell_type": "code",
   "execution_count": null,
   "id": "d3b2d598-c312-4ccc-bdd9-ec02a47d8971",
   "metadata": {},
   "outputs": [],
   "source": [
    "summary_df.to_csv('summary_table.csv', index=False)"
   ]
  },
  {
   "cell_type": "markdown",
   "id": "c52d409d-f70b-453a-bfbc-6d2dda1dbce5",
   "metadata": {},
   "source": [
    "### Perform log transform on count data"
   ]
  },
  {
   "cell_type": "code",
   "execution_count": 9,
   "id": "a30c9873-b980-4012-85a5-2ce6af3b23c1",
   "metadata": {},
   "outputs": [
    {
     "data": {
      "text/plain": [
       "<AxesSubplot: >"
      ]
     },
     "execution_count": 9,
     "metadata": {},
     "output_type": "execute_result"
    },
    {
     "data": {
      "image/png": "[encoded data removed]",
      "text/plain": [
       "<Figure size 640x480 with 1 Axes>"
      ]
     },
     "metadata": {},
     "output_type": "display_data"
    }
   ],
   "source": [
    "log_count = np.log(train['count'])\n",
    "log_count.hist()"
   ]
  },
  {
   "cell_type": "code",
   "execution_count": 10,
   "id": "e236eaea-3ced-47af-a34b-48f425c755ea",
   "metadata": {},
   "outputs": [
    {
     "data": {
      "text/plain": [
       "<AxesSubplot: >"
      ]
     },
     "execution_count": 10,
     "metadata": {},
     "output_type": "execute_result"
    },
    {
     "data": {
      "image/png": "[encoded data removed]",
      "text/plain": [
       "<Figure size 640x480 with 1 Axes>"
      ]
     },
     "metadata": {},
     "output_type": "display_data"
    }
   ],
   "source": [
    "train['count'].hist()"
   ]
  },
  {
   "cell_type": "code",
   "execution_count": 11,
   "id": "bd23d6a1-6d8b-49a7-81fd-af80915b41b9",
   "metadata": {},
   "outputs": [],
   "source": [
    "train_ln_transform = train\n",
    "train_ln_transform['count'] = log_count"
   ]
  },
  {
   "cell_type": "markdown",
   "id": "ba6d95bb-316c-4053-ab7f-6d8ef0382387",
   "metadata": {},
   "source": [
    "#### since we achieved the best score with autostack on, let's try this setting on the ln transform of the count label"
   ]
  },
  {
   "cell_type": "code",
   "execution_count": 12,
   "id": "3da8b63b-e9e3-4162-bf37-88c01b3f1bb1",
   "metadata": {},
   "outputs": [
    {
     "name": "stderr",
     "output_type": "stream",
     "text": [
      "No path specified. Models will be saved in: \"AutogluonModels/ag-20230108_215208/\"\n",
      "Presets specified: ['best_quality']\n",
      "Stack configuration (auto_stack=True): num_stack_levels=1, num_bag_folds=8, num_bag_sets=20\n",
      "Beginning AutoGluon training ... Time limit = 600s\n",
      "AutoGluon will save models to \"AutogluonModels/ag-20230108_215208/\"\n",
      "AutoGluon Version:  0.6.1\n",
      "Python Version:     3.9.13\n",
      "Operating System:   Linux\n",
      "Platform Machine:   x86_64\n",
      "Platform Version:   #1 SMP Wed Oct 26 20:36:53 UTC 2022\n",
      "Train Data Rows:    10886\n",
      "Train Data Columns: 12\n",
      "Label Column: count\n",
      "Preprocessing data ...\n",
      "AutoGluon infers your prediction problem is: 'regression' (because dtype of label-column == float and many unique label-values observed).\n",
      "\tLabel info (max, min, mean, stddev): (6.884486652042782, 0.0, 4.55256, 1.48904)\n",
      "\tIf 'regression' is not the correct problem_type, please manually specify the problem_type parameter during predictor init (You may specify problem_type as one of: ['binary', 'multiclass', 'regression'])\n",
      "Using Feature Generators to preprocess the data ...\n",
      "Fitting AutoMLPipelineFeatureGenerator...\n",
      "\tAvailable Memory:                    14904.01 MB\n",
      "\tTrain Data (Original)  Memory Usage: 0.89 MB (0.0% of available memory)\n",
      "\tInferring data type of each feature based on column values. Set feature_metadata_in to manually specify special dtypes of the features.\n",
      "\tStage 1 Generators:\n",
      "\t\tFitting AsTypeFeatureGenerator...\n",
      "\t\t\tNote: Converting 2 features to boolean dtype as they only contain 2 unique values.\n",
      "\tStage 2 Generators:\n",
      "\t\tFitting FillNaFeatureGenerator...\n",
      "\tStage 3 Generators:\n",
      "\t\tFitting IdentityFeatureGenerator...\n",
      "\t\tFitting CategoryFeatureGenerator...\n",
      "\t\t\tFitting CategoryMemoryMinimizeFeatureGenerator...\n",
      "\t\tFitting DatetimeFeatureGenerator...\n",
      "\tStage 4 Generators:\n",
      "\t\tFitting DropUniqueFeatureGenerator...\n",
      "\tTypes of features in original data (raw dtype, special dtypes):\n",
      "\t\t('category', []) : 2 | ['season', 'weather']\n",
      "\t\t('datetime', []) : 1 | ['datetime']\n",
      "\t\t('float', [])    : 3 | ['temp', 'atemp', 'windspeed']\n",
      "\t\t('int', [])      : 6 | ['holiday', 'workingday', 'humidity', 'month', 'day', ...]\n",
      "\tTypes of features in processed data (raw dtype, special dtypes):\n",
      "\t\t('category', [])             : 2 | ['season', 'weather']\n",
      "\t\t('float', [])                : 3 | ['temp', 'atemp', 'windspeed']\n",
      "\t\t('int', [])                  : 4 | ['humidity', 'month', 'day', 'hour']\n",
      "\t\t('int', ['bool'])            : 2 | ['holiday', 'workingday']\n",
      "\t\t('int', ['datetime_as_int']) : 5 | ['datetime', 'datetime.year', 'datetime.month', 'datetime.day', 'datetime.dayofweek']\n",
      "\t0.2s = Fit runtime\n",
      "\t12 features in original data used to generate 16 features in processed data.\n",
      "\tTrain Data (Processed) Memory Usage: 1.09 MB (0.0% of available memory)\n",
      "Data preprocessing and feature engineering runtime = 0.3s ...\n",
      "AutoGluon will gauge predictive performance using evaluation metric: 'root_mean_squared_error'\n",
      "\tThis metric's sign has been flipped to adhere to being higher_is_better. The metric score can be multiplied by -1 to get the metric value.\n",
      "\tTo change this, specify the eval_metric parameter of Predictor()\n",
      "AutoGluon will fit 2 stack levels (L1 to L2) ...\n",
      "Fitting 11 L1 models ...\n",
      "Fitting model: KNeighborsUnif_BAG_L1 ... Training model for up to 399.7s of the 599.69s of remaining time.\n",
      "\t-0.6709\t = Validation score   (-root_mean_squared_error)\n",
      "\t0.06s\t = Training   runtime\n",
      "\t0.06s\t = Validation runtime\n",
      "Fitting model: KNeighborsDist_BAG_L1 ... Training model for up to 394.68s of the 594.67s of remaining time.\n",
      "\t-0.533\t = Validation score   (-root_mean_squared_error)\n",
      "\t0.05s\t = Training   runtime\n",
      "\t0.07s\t = Validation runtime\n",
      "Fitting model: LightGBMXT_BAG_L1 ... Training model for up to 394.5s of the 594.49s of remaining time.\n",
      "\tFitting 8 child models (S1F1 - S1F8) | Fitting with ParallelLocalFoldFittingStrategy\n",
      "\t-0.3041\t = Validation score   (-root_mean_squared_error)\n",
      "\t30.19s\t = Training   runtime\n",
      "\t6.86s\t = Validation runtime\n",
      "Fitting model: LightGBM_BAG_L1 ... Training model for up to 349.05s of the 549.04s of remaining time.\n",
      "\tFitting 8 child models (S1F1 - S1F8) | Fitting with ParallelLocalFoldFittingStrategy\n",
      "\t-0.2977\t = Validation score   (-root_mean_squared_error)\n",
      "\t17.95s\t = Training   runtime\n",
      "\t1.69s\t = Validation runtime\n",
      "Fitting model: RandomForestMSE_BAG_L1 ... Training model for up to 325.31s of the 525.3s of remaining time.\n",
      "\t-0.3218\t = Validation score   (-root_mean_squared_error)\n",
      "\t10.85s\t = Training   runtime\n",
      "\t0.95s\t = Validation runtime\n",
      "Fitting model: CatBoost_BAG_L1 ... Training model for up to 312.89s of the 512.88s of remaining time.\n",
      "\tFitting 8 child models (S1F1 - S1F8) | Fitting with ParallelLocalFoldFittingStrategy\n",
      "\t-0.2911\t = Validation score   (-root_mean_squared_error)\n",
      "\t225.27s\t = Training   runtime\n",
      "\t0.17s\t = Validation runtime\n",
      "Fitting model: ExtraTreesMSE_BAG_L1 ... Training model for up to 82.39s of the 282.38s of remaining time.\n",
      "\t-0.318\t = Validation score   (-root_mean_squared_error)\n",
      "\t5.91s\t = Training   runtime\n",
      "\t1.02s\t = Validation runtime\n",
      "Fitting model: NeuralNetFastAI_BAG_L1 ... Training model for up to 74.73s of the 274.72s of remaining time.\n",
      "\tFitting 8 child models (S1F1 - S1F8) | Fitting with ParallelLocalFoldFittingStrategy\n",
      "E0108 21:57:33.855791491    1300 chttp2_transport.cc:1103]   Received a GOAWAY with error code ENHANCE_YOUR_CALM and debug data equal to \"too_many_pings\"\n",
      "\t-0.3612\t = Validation score   (-root_mean_squared_error)\n",
      "\t64.83s\t = Training   runtime\n",
      "\t0.76s\t = Validation runtime\n",
      "Fitting model: XGBoost_BAG_L1 ... Training model for up to 3.64s of the 203.63s of remaining time.\n",
      "\tFitting 8 child models (S1F1 - S1F8) | Fitting with ParallelLocalFoldFittingStrategy\n",
      "\t-0.311\t = Validation score   (-root_mean_squared_error)\n",
      "\t9.06s\t = Training   runtime\n",
      "\t0.4s\t = Validation runtime\n",
      "Completed 1/20 k-fold bagging repeats ...\n",
      "Fitting model: WeightedEnsemble_L2 ... Training model for up to 360.0s of the 188.9s of remaining time.\n",
      "\t-0.2853\t = Validation score   (-root_mean_squared_error)\n",
      "\t1.34s\t = Training   runtime\n",
      "\t0.0s\t = Validation runtime\n",
      "Fitting 9 L2 models ...\n",
      "Fitting model: LightGBMXT_BAG_L2 ... Training model for up to 187.5s of the 187.46s of remaining time.\n",
      "\tFitting 8 child models (S1F1 - S1F8) | Fitting with ParallelLocalFoldFittingStrategy\n",
      "\t-0.2862\t = Validation score   (-root_mean_squared_error)\n",
      "\t15.26s\t = Training   runtime\n",
      "\t0.29s\t = Validation runtime\n",
      "Fitting model: LightGBM_BAG_L2 ... Training model for up to 166.8s of the 166.76s of remaining time.\n",
      "\tFitting 8 child models (S1F1 - S1F8) | Fitting with ParallelLocalFoldFittingStrategy\n",
      "\t-0.2828\t = Validation score   (-root_mean_squared_error)\n",
      "\t14.81s\t = Training   runtime\n",
      "\t0.21s\t = Validation runtime\n",
      "Fitting model: RandomForestMSE_BAG_L2 ... Training model for up to 145.74s of the 145.71s of remaining time.\n",
      "\t-0.2886\t = Validation score   (-root_mean_squared_error)\n",
      "\t24.86s\t = Training   runtime\n",
      "\t0.9s\t = Validation runtime\n",
      "Fitting model: CatBoost_BAG_L2 ... Training model for up to 119.32s of the 119.29s of remaining time.\n",
      "\tFitting 8 child models (S1F1 - S1F8) | Fitting with ParallelLocalFoldFittingStrategy\n",
      "\t-0.2823\t = Validation score   (-root_mean_squared_error)\n",
      "\t90.95s\t = Training   runtime\n",
      "\t0.17s\t = Validation runtime\n",
      "Fitting model: ExtraTreesMSE_BAG_L2 ... Training model for up to 23.48s of the 23.45s of remaining time.\n",
      "\t-0.2852\t = Validation score   (-root_mean_squared_error)\n",
      "\t8.64s\t = Training   runtime\n",
      "\t0.98s\t = Validation runtime\n",
      "Fitting model: NeuralNetFastAI_BAG_L2 ... Training model for up to 13.23s of the 13.21s of remaining time.\n",
      "\tFitting 8 child models (S1F1 - S1F8) | Fitting with ParallelLocalFoldFittingStrategy\n",
      "\t-0.2946\t = Validation score   (-root_mean_squared_error)\n",
      "\t22.29s\t = Training   runtime\n",
      "\t0.97s\t = Validation runtime\n",
      "Completed 1/20 k-fold bagging repeats ...\n",
      "Fitting model: WeightedEnsemble_L3 ... Training model for up to 360.0s of the -14.39s of remaining time.\n",
      "\t-0.2801\t = Validation score   (-root_mean_squared_error)\n",
      "\t0.55s\t = Training   runtime\n",
      "\t0.0s\t = Validation runtime\n",
      "AutoGluon training complete, total runtime = 614.96s ... Best model: \"WeightedEnsemble_L3\"\n",
      "TabularPredictor saved. To load, use: predictor = TabularPredictor.load(\"AutogluonModels/ag-20230108_215208/\")\n"
     ]
    }
   ],
   "source": [
    "predictor_transform_autostack = TabularPredictor(label = 'count', eval_metric = 'root_mean_squared_error').fit(\n",
    "    train_data = train_ln_transform,\n",
    "    time_limit = 600,\n",
    "    presets = \"best_quality\",\n",
    "    auto_stack = True\n",
    ")"
   ]
  },
  {
   "cell_type": "code",
   "execution_count": 13,
   "id": "0ab5ce35-6497-461f-97cf-68204c68b0a9",
   "metadata": {},
   "outputs": [
    {
     "name": "stdout",
     "output_type": "stream",
     "text": [
      "*** Summary of fit() ***\n",
      "Estimated performance of each model:\n",
      "                     model  score_val  pred_time_val    fit_time  pred_time_val_marginal  fit_time_marginal  stack_level  can_infer  fit_order\n",
      "0      WeightedEnsemble_L3  -0.280094      14.600851  516.665521                0.000870           0.546727            3       True         17\n",
      "1          CatBoost_BAG_L2  -0.282300      12.162794  455.123175                0.170975          90.948841            2       True         14\n",
      "2          LightGBM_BAG_L2  -0.282778      12.198055  378.989076                0.206236          14.814741            2       True         12\n",
      "3     ExtraTreesMSE_BAG_L2  -0.285220      12.967439  372.813785                0.975621           8.639451            2       True         15\n",
      "4      WeightedEnsemble_L2  -0.285299      10.773058  291.564572                0.001509           1.342765            2       True         10\n",
      "5        LightGBMXT_BAG_L2  -0.286191      12.281024  379.429952                0.289205          15.255618            2       True         11\n",
      "6   RandomForestMSE_BAG_L2  -0.288644      12.896027  389.038548                0.904208          24.864214            2       True         13\n",
      "7          CatBoost_BAG_L1  -0.291100       0.166778  225.272907                0.166778         225.272907            1       True          6\n",
      "8   NeuralNetFastAI_BAG_L2  -0.294596      12.957945  386.460143                0.966126          22.285809            2       True         16\n",
      "9          LightGBM_BAG_L1  -0.297667       1.691970   17.949326                1.691970          17.949326            1       True          4\n",
      "10       LightGBMXT_BAG_L1  -0.304077       6.864467   30.192506                6.864467          30.192506            1       True          3\n",
      "11          XGBoost_BAG_L1  -0.310975       0.399400    9.059360                0.399400           9.059360            1       True          9\n",
      "12    ExtraTreesMSE_BAG_L1  -0.317983       1.023090    5.910870                1.023090           5.910870            1       True          7\n",
      "13  RandomForestMSE_BAG_L1  -0.321837       0.950653   10.845120                0.950653          10.845120            1       True          5\n",
      "14  NeuralNetFastAI_BAG_L1  -0.361231       0.759704   64.834248                0.759704          64.834248            1       True          8\n",
      "15   KNeighborsDist_BAG_L1  -0.532997       0.074592    0.051077                0.074592           0.051077            1       True          2\n",
      "16   KNeighborsUnif_BAG_L1  -0.670892       0.061166    0.058920                0.061166           0.058920            1       True          1\n",
      "Number of models trained: 17\n",
      "Types of models trained:\n",
      "{'StackerEnsembleModel_KNN', 'StackerEnsembleModel_XGBoost', 'StackerEnsembleModel_CatBoost', 'StackerEnsembleModel_NNFastAiTabular', 'StackerEnsembleModel_RF', 'StackerEnsembleModel_LGB', 'WeightedEnsembleModel', 'StackerEnsembleModel_XT'}\n",
      "Bagging used: True  (with 8 folds)\n",
      "Multi-layer stack-ensembling used: True  (with 3 levels)\n",
      "Feature Metadata (Processed):\n",
      "(raw dtype, special dtypes):\n",
      "('category', [])             : 2 | ['season', 'weather']\n",
      "('float', [])                : 3 | ['temp', 'atemp', 'windspeed']\n",
      "('int', [])                  : 4 | ['humidity', 'month', 'day', 'hour']\n",
      "('int', ['bool'])            : 2 | ['holiday', 'workingday']\n",
      "('int', ['datetime_as_int']) : 5 | ['datetime', 'datetime.year', 'datetime.month', 'datetime.day', 'datetime.dayofweek']\n",
      "*** End of fit() summary ***\n"
     ]
    },
    {
     "name": "stderr",
     "output_type": "stream",
     "text": [
      "/home/studio-lab-user/.conda/envs/default/lib/python3.9/site-packages/autogluon/core/utils/plots.py:138: UserWarning: AutoGluon summary plots cannot be created because bokeh is not installed. To see plots, please do: \"pip install bokeh==2.0.1\"\n",
      "  warnings.warn('AutoGluon summary plots cannot be created because bokeh is not installed. To see plots, please do: \"pip install bokeh==2.0.1\"')\n"
     ]
    },
    {
     "data": {
      "text/plain": [
       "{'model_types': {'KNeighborsUnif_BAG_L1': 'StackerEnsembleModel_KNN',\n",
       "  'KNeighborsDist_BAG_L1': 'StackerEnsembleModel_KNN',\n",
       "  'LightGBMXT_BAG_L1': 'StackerEnsembleModel_LGB',\n",
       "  'LightGBM_BAG_L1': 'StackerEnsembleModel_LGB',\n",
       "  'RandomForestMSE_BAG_L1': 'StackerEnsembleModel_RF',\n",
       "  'CatBoost_BAG_L1': 'StackerEnsembleModel_CatBoost',\n",
       "  'ExtraTreesMSE_BAG_L1': 'StackerEnsembleModel_XT',\n",
       "  'NeuralNetFastAI_BAG_L1': 'StackerEnsembleModel_NNFastAiTabular',\n",
       "  'XGBoost_BAG_L1': 'StackerEnsembleModel_XGBoost',\n",
       "  'WeightedEnsemble_L2': 'WeightedEnsembleModel',\n",
       "  'LightGBMXT_BAG_L2': 'StackerEnsembleModel_LGB',\n",
       "  'LightGBM_BAG_L2': 'StackerEnsembleModel_LGB',\n",
       "  'RandomForestMSE_BAG_L2': 'StackerEnsembleModel_RF',\n",
       "  'CatBoost_BAG_L2': 'StackerEnsembleModel_CatBoost',\n",
       "  'ExtraTreesMSE_BAG_L2': 'StackerEnsembleModel_XT',\n",
       "  'NeuralNetFastAI_BAG_L2': 'StackerEnsembleModel_NNFastAiTabular',\n",
       "  'WeightedEnsemble_L3': 'WeightedEnsembleModel'},\n",
       " 'model_performance': {'KNeighborsUnif_BAG_L1': -0.6708923346701012,\n",
       "  'KNeighborsDist_BAG_L1': -0.5329974177532395,\n",
       "  'LightGBMXT_BAG_L1': -0.3040772646044314,\n",
       "  'LightGBM_BAG_L1': -0.2976670170999213,\n",
       "  'RandomForestMSE_BAG_L1': -0.3218370312553078,\n",
       "  'CatBoost_BAG_L1': -0.2911000108926725,\n",
       "  'ExtraTreesMSE_BAG_L1': -0.3179832449727022,\n",
       "  'NeuralNetFastAI_BAG_L1': -0.3612311217930252,\n",
       "  'XGBoost_BAG_L1': -0.3109752540755468,\n",
       "  'WeightedEnsemble_L2': -0.2852992837770816,\n",
       "  'LightGBMXT_BAG_L2': -0.2861911251270973,\n",
       "  'LightGBM_BAG_L2': -0.2827776345287213,\n",
       "  'RandomForestMSE_BAG_L2': -0.28864362743739985,\n",
       "  'CatBoost_BAG_L2': -0.2822997129648123,\n",
       "  'ExtraTreesMSE_BAG_L2': -0.2852201956230809,\n",
       "  'NeuralNetFastAI_BAG_L2': -0.29459619313087104,\n",
       "  'WeightedEnsemble_L3': -0.28009446770088414},\n",
       " 'model_best': 'WeightedEnsemble_L3',\n",
       " 'model_paths': {'KNeighborsUnif_BAG_L1': 'AutogluonModels/ag-20230108_215208/models/KNeighborsUnif_BAG_L1/',\n",
       "  'KNeighborsDist_BAG_L1': 'AutogluonModels/ag-20230108_215208/models/KNeighborsDist_BAG_L1/',\n",
       "  'LightGBMXT_BAG_L1': 'AutogluonModels/ag-20230108_215208/models/LightGBMXT_BAG_L1/',\n",
       "  'LightGBM_BAG_L1': 'AutogluonModels/ag-20230108_215208/models/LightGBM_BAG_L1/',\n",
       "  'RandomForestMSE_BAG_L1': 'AutogluonModels/ag-20230108_215208/models/RandomForestMSE_BAG_L1/',\n",
       "  'CatBoost_BAG_L1': 'AutogluonModels/ag-20230108_215208/models/CatBoost_BAG_L1/',\n",
       "  'ExtraTreesMSE_BAG_L1': 'AutogluonModels/ag-20230108_215208/models/ExtraTreesMSE_BAG_L1/',\n",
       "  'NeuralNetFastAI_BAG_L1': 'AutogluonModels/ag-20230108_215208/models/NeuralNetFastAI_BAG_L1/',\n",
       "  'XGBoost_BAG_L1': 'AutogluonModels/ag-20230108_215208/models/XGBoost_BAG_L1/',\n",
       "  'WeightedEnsemble_L2': 'AutogluonModels/ag-20230108_215208/models/WeightedEnsemble_L2/',\n",
       "  'LightGBMXT_BAG_L2': 'AutogluonModels/ag-20230108_215208/models/LightGBMXT_BAG_L2/',\n",
       "  'LightGBM_BAG_L2': 'AutogluonModels/ag-20230108_215208/models/LightGBM_BAG_L2/',\n",
       "  'RandomForestMSE_BAG_L2': 'AutogluonModels/ag-20230108_215208/models/RandomForestMSE_BAG_L2/',\n",
       "  'CatBoost_BAG_L2': 'AutogluonModels/ag-20230108_215208/models/CatBoost_BAG_L2/',\n",
       "  'ExtraTreesMSE_BAG_L2': 'AutogluonModels/ag-20230108_215208/models/ExtraTreesMSE_BAG_L2/',\n",
       "  'NeuralNetFastAI_BAG_L2': 'AutogluonModels/ag-20230108_215208/models/NeuralNetFastAI_BAG_L2/',\n",
       "  'WeightedEnsemble_L3': 'AutogluonModels/ag-20230108_215208/models/WeightedEnsemble_L3/'},\n",
       " 'model_fit_times': {'KNeighborsUnif_BAG_L1': 0.05891990661621094,\n",
       "  'KNeighborsDist_BAG_L1': 0.051076650619506836,\n",
       "  'LightGBMXT_BAG_L1': 30.192506074905396,\n",
       "  'LightGBM_BAG_L1': 17.949326038360596,\n",
       "  'RandomForestMSE_BAG_L1': 10.845119953155518,\n",
       "  'CatBoost_BAG_L1': 225.27290749549866,\n",
       "  'ExtraTreesMSE_BAG_L1': 5.910870313644409,\n",
       "  'NeuralNetFastAI_BAG_L1': 64.83424830436707,\n",
       "  'XGBoost_BAG_L1': 9.059359788894653,\n",
       "  'WeightedEnsemble_L2': 1.3427650928497314,\n",
       "  'LightGBMXT_BAG_L2': 15.255617618560791,\n",
       "  'LightGBM_BAG_L2': 14.814741373062134,\n",
       "  'RandomForestMSE_BAG_L2': 24.864213943481445,\n",
       "  'CatBoost_BAG_L2': 90.94884061813354,\n",
       "  'ExtraTreesMSE_BAG_L2': 8.639450788497925,\n",
       "  'NeuralNetFastAI_BAG_L2': 22.285808563232422,\n",
       "  'WeightedEnsemble_L3': 0.5467274188995361},\n",
       " 'model_pred_times': {'KNeighborsUnif_BAG_L1': 0.061165571212768555,\n",
       "  'KNeighborsDist_BAG_L1': 0.07459163665771484,\n",
       "  'LightGBMXT_BAG_L1': 6.864467144012451,\n",
       "  'LightGBM_BAG_L1': 1.691969871520996,\n",
       "  'RandomForestMSE_BAG_L1': 0.9506528377532959,\n",
       "  'CatBoost_BAG_L1': 0.1667776107788086,\n",
       "  'ExtraTreesMSE_BAG_L1': 1.02308988571167,\n",
       "  'NeuralNetFastAI_BAG_L1': 0.7597043514251709,\n",
       "  'XGBoost_BAG_L1': 0.399399995803833,\n",
       "  'WeightedEnsemble_L2': 0.0015087127685546875,\n",
       "  'LightGBMXT_BAG_L2': 0.28920459747314453,\n",
       "  'LightGBM_BAG_L2': 0.20623564720153809,\n",
       "  'RandomForestMSE_BAG_L2': 0.9042079448699951,\n",
       "  'CatBoost_BAG_L2': 0.1709752082824707,\n",
       "  'ExtraTreesMSE_BAG_L2': 0.9756205081939697,\n",
       "  'NeuralNetFastAI_BAG_L2': 0.9661259651184082,\n",
       "  'WeightedEnsemble_L3': 0.0008697509765625},\n",
       " 'num_bag_folds': 8,\n",
       " 'max_stack_level': 3,\n",
       " 'model_hyperparams': {'KNeighborsUnif_BAG_L1': {'use_orig_features': True,\n",
       "   'max_base_models': 25,\n",
       "   'max_base_models_per_type': 5,\n",
       "   'save_bag_folds': True,\n",
       "   'use_child_oof': True},\n",
       "  'KNeighborsDist_BAG_L1': {'use_orig_features': True,\n",
       "   'max_base_models': 25,\n",
       "   'max_base_models_per_type': 5,\n",
       "   'save_bag_folds': True,\n",
       "   'use_child_oof': True},\n",
       "  'LightGBMXT_BAG_L1': {'use_orig_features': True,\n",
       "   'max_base_models': 25,\n",
       "   'max_base_models_per_type': 5,\n",
       "   'save_bag_folds': True},\n",
       "  'LightGBM_BAG_L1': {'use_orig_features': True,\n",
       "   'max_base_models': 25,\n",
       "   'max_base_models_per_type': 5,\n",
       "   'save_bag_folds': True},\n",
       "  'RandomForestMSE_BAG_L1': {'use_orig_features': True,\n",
       "   'max_base_models': 25,\n",
       "   'max_base_models_per_type': 5,\n",
       "   'save_bag_folds': True,\n",
       "   'use_child_oof': True},\n",
       "  'CatBoost_BAG_L1': {'use_orig_features': True,\n",
       "   'max_base_models': 25,\n",
       "   'max_base_models_per_type': 5,\n",
       "   'save_bag_folds': True},\n",
       "  'ExtraTreesMSE_BAG_L1': {'use_orig_features': True,\n",
       "   'max_base_models': 25,\n",
       "   'max_base_models_per_type': 5,\n",
       "   'save_bag_folds': True,\n",
       "   'use_child_oof': True},\n",
       "  'NeuralNetFastAI_BAG_L1': {'use_orig_features': True,\n",
       "   'max_base_models': 25,\n",
       "   'max_base_models_per_type': 5,\n",
       "   'save_bag_folds': True},\n",
       "  'XGBoost_BAG_L1': {'use_orig_features': True,\n",
       "   'max_base_models': 25,\n",
       "   'max_base_models_per_type': 5,\n",
       "   'save_bag_folds': True},\n",
       "  'WeightedEnsemble_L2': {'use_orig_features': False,\n",
       "   'max_base_models': 25,\n",
       "   'max_base_models_per_type': 5,\n",
       "   'save_bag_folds': True},\n",
       "  'LightGBMXT_BAG_L2': {'use_orig_features': True,\n",
       "   'max_base_models': 25,\n",
       "   'max_base_models_per_type': 5,\n",
       "   'save_bag_folds': True},\n",
       "  'LightGBM_BAG_L2': {'use_orig_features': True,\n",
       "   'max_base_models': 25,\n",
       "   'max_base_models_per_type': 5,\n",
       "   'save_bag_folds': True},\n",
       "  'RandomForestMSE_BAG_L2': {'use_orig_features': True,\n",
       "   'max_base_models': 25,\n",
       "   'max_base_models_per_type': 5,\n",
       "   'save_bag_folds': True,\n",
       "   'use_child_oof': True},\n",
       "  'CatBoost_BAG_L2': {'use_orig_features': True,\n",
       "   'max_base_models': 25,\n",
       "   'max_base_models_per_type': 5,\n",
       "   'save_bag_folds': True},\n",
       "  'ExtraTreesMSE_BAG_L2': {'use_orig_features': True,\n",
       "   'max_base_models': 25,\n",
       "   'max_base_models_per_type': 5,\n",
       "   'save_bag_folds': True,\n",
       "   'use_child_oof': True},\n",
       "  'NeuralNetFastAI_BAG_L2': {'use_orig_features': True,\n",
       "   'max_base_models': 25,\n",
       "   'max_base_models_per_type': 5,\n",
       "   'save_bag_folds': True},\n",
       "  'WeightedEnsemble_L3': {'use_orig_features': False,\n",
       "   'max_base_models': 25,\n",
       "   'max_base_models_per_type': 5,\n",
       "   'save_bag_folds': True}},\n",
       " 'leaderboard':                      model  score_val  pred_time_val    fit_time  \\\n",
       " 0      WeightedEnsemble_L3  -0.280094      14.600851  516.665521   \n",
       " 1          CatBoost_BAG_L2  -0.282300      12.162794  455.123175   \n",
       " 2          LightGBM_BAG_L2  -0.282778      12.198055  378.989076   \n",
       " 3     ExtraTreesMSE_BAG_L2  -0.285220      12.967439  372.813785   \n",
       " 4      WeightedEnsemble_L2  -0.285299      10.773058  291.564572   \n",
       " 5        LightGBMXT_BAG_L2  -0.286191      12.281024  379.429952   \n",
       " 6   RandomForestMSE_BAG_L2  -0.288644      12.896027  389.038548   \n",
       " 7          CatBoost_BAG_L1  -0.291100       0.166778  225.272907   \n",
       " 8   NeuralNetFastAI_BAG_L2  -0.294596      12.957945  386.460143   \n",
       " 9          LightGBM_BAG_L1  -0.297667       1.691970   17.949326   \n",
       " 10       LightGBMXT_BAG_L1  -0.304077       6.864467   30.192506   \n",
       " 11          XGBoost_BAG_L1  -0.310975       0.399400    9.059360   \n",
       " 12    ExtraTreesMSE_BAG_L1  -0.317983       1.023090    5.910870   \n",
       " 13  RandomForestMSE_BAG_L1  -0.321837       0.950653   10.845120   \n",
       " 14  NeuralNetFastAI_BAG_L1  -0.361231       0.759704   64.834248   \n",
       " 15   KNeighborsDist_BAG_L1  -0.532997       0.074592    0.051077   \n",
       " 16   KNeighborsUnif_BAG_L1  -0.670892       0.061166    0.058920   \n",
       " \n",
       "     pred_time_val_marginal  fit_time_marginal  stack_level  can_infer  \\\n",
       " 0                 0.000870           0.546727            3       True   \n",
       " 1                 0.170975          90.948841            2       True   \n",
       " 2                 0.206236          14.814741            2       True   \n",
       " 3                 0.975621           8.639451            2       True   \n",
       " 4                 0.001509           1.342765            2       True   \n",
       " 5                 0.289205          15.255618            2       True   \n",
       " 6                 0.904208          24.864214            2       True   \n",
       " 7                 0.166778         225.272907            1       True   \n",
       " 8                 0.966126          22.285809            2       True   \n",
       " 9                 1.691970          17.949326            1       True   \n",
       " 10                6.864467          30.192506            1       True   \n",
       " 11                0.399400           9.059360            1       True   \n",
       " 12                1.023090           5.910870            1       True   \n",
       " 13                0.950653          10.845120            1       True   \n",
       " 14                0.759704          64.834248            1       True   \n",
       " 15                0.074592           0.051077            1       True   \n",
       " 16                0.061166           0.058920            1       True   \n",
       " \n",
       "     fit_order  \n",
       " 0          17  \n",
       " 1          14  \n",
       " 2          12  \n",
       " 3          15  \n",
       " 4          10  \n",
       " 5          11  \n",
       " 6          13  \n",
       " 7           6  \n",
       " 8          16  \n",
       " 9           4  \n",
       " 10          3  \n",
       " 11          9  \n",
       " 12          7  \n",
       " 13          5  \n",
       " 14          8  \n",
       " 15          2  \n",
       " 16          1  }"
      ]
     },
     "execution_count": 13,
     "metadata": {},
     "output_type": "execute_result"
    }
   ],
   "source": [
    "predictor_transform_autostack.fit_summary()"
   ]
  },
  {
   "cell_type": "code",
   "execution_count": 14,
   "id": "7002c995-e5d3-45fb-be3d-4b5f6647eb7c",
   "metadata": {},
   "outputs": [
    {
     "data": {
      "text/plain": [
       "<AxesSubplot: xlabel='model'>"
      ]
     },
     "execution_count": 14,
     "metadata": {},
     "output_type": "execute_result"
    },
    {
     "data": {
      "image/png": "[encoded data removed]",
      "text/plain": [
       "<Figure size 640x480 with 1 Axes>"
      ]
     },
     "metadata": {},
     "output_type": "display_data"
    }
   ],
   "source": [
    "predictor_transform_autostack.leaderboard(silent=True).plot(kind='bar', x='model', y='score_val')"
   ]
  },
  {
   "cell_type": "code",
   "execution_count": 15,
   "id": "0fff2821-9709-4462-ba6a-98aac211c06b",
   "metadata": {},
   "outputs": [],
   "source": [
    "test_transform = predictor_transform_autostack.predict(test)"
   ]
  },
  {
   "cell_type": "code",
   "execution_count": 16,
   "id": "fd05ed1e-f28a-410f-a95f-92ea50960118",
   "metadata": {},
   "outputs": [],
   "source": [
    "#exponentiate count to undo ln transform\n",
    "test_transform = np.exp(test_transform)"
   ]
  },
  {
   "cell_type": "code",
   "execution_count": 20,
   "id": "d8d7c917-6261-46df-8c97-89238b684c1e",
   "metadata": {},
   "outputs": [],
   "source": [
    "#make submission file\n",
    "submission_transform = submission\n",
    "submission_transform['count'] = test_transform\n",
    "submission_transform.to_csv('submission_transform.csv',index=False)\n"
   ]
  },
  {
   "cell_type": "code",
   "execution_count": 21,
   "id": "5c393cf8-cbc4-4df4-becf-c75165ceaa62",
   "metadata": {},
   "outputs": [
    {
     "name": "stdout",
     "output_type": "stream",
     "text": [
      "100%|█████████████████████████████████████████| 188k/188k [00:00<00:00, 213kB/s]\n",
      "Successfully submitted to Bike Sharing Demand"
     ]
    }
   ],
   "source": [
    "#submit to kaggle\n",
    "!kaggle competitions submit -c bike-sharing-demand -f submission_transform.csv -m \"with features, autostack on, ln transform of count\""
   ]
  },
  {
   "cell_type": "code",
   "execution_count": null,
   "id": "1009d16c-67b8-4238-a51c-457e625f2332",
   "metadata": {},
   "outputs": [],
   "source": [
    "!kaggle competitions submissions -c bike-sharing-demand | tail -n +1 | head -n 2"
   ]
  },
  {
   "cell_type": "markdown",
   "id": "32390d88-4851-488d-953d-fc109bf0225f",
   "metadata": {},
   "source": [
    "kaggle score after performing ln transform: 0.56869"
   ]
  }
 ],
 "metadata": {
  "kernelspec": {
   "display_name": "default:Python",
   "language": "python",
   "name": "conda-env-default-py"
  },
  "language_info": {
   "codemirror_mode": {
    "name": "ipython",
    "version": 3
   },
   "file_extension": ".py",
   "mimetype": "text/x-python",
   "name": "python",
   "nbconvert_exporter": "python",
   "pygments_lexer": "ipython3",
   "version": "3.9.13"
  },
  "toc-showtags": false
 },
 "nbformat": 4,
 "nbformat_minor": 5
}
